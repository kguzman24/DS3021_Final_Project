{
  "cells": [
    {
      "cell_type": "markdown",
      "metadata": {
        "colab_type": "text",
        "id": "view-in-github"
      },
      "source": [
        "<a href=\"https://colab.research.google.com/github/ameliavasiliu/DS3021_Final_Project/blob/main/Final_Project.ipynb\" target=\"_parent\"><img src=\"https://colab.research.google.com/assets/colab-badge.svg\" alt=\"Open In Colab\"/></a>"
      ]
    },
    {
      "cell_type": "markdown",
      "metadata": {
        "id": "OTrOKirBu3CY"
      },
      "source": [
        "# Overview and brief Data Summary and Expectations"
      ]
    },
    {
      "cell_type": "code",
      "execution_count": 35,
      "metadata": {
        "id": "47VzK2Znn1hp"
      },
      "outputs": [],
      "source": [
        "import pandas as pd\n",
        "import matplotlib.pyplot as plt\n",
        "from sklearn.model_selection import train_test_split\n",
        "from sklearn.linear_model import LinearRegression\n",
        "from sklearn.metrics import mean_squared_error, r2_score\n",
        "from sklearn.decomposition import PCA\n",
        "from sklearn.preprocessing import StandardScaler"
      ]
    },
    {
      "cell_type": "code",
      "execution_count": 36,
      "metadata": {
        "id": "FwzYK2vtn-6R"
      },
      "outputs": [],
      "source": [
        "df = pd.read_csv(\"data/Airplane_Crashes_and_Fatalities_Since_1908 2.csv\")"
      ]
    },
    {
      "cell_type": "code",
      "execution_count": 37,
      "metadata": {
        "colab": {
          "base_uri": "https://localhost:8080/",
          "height": 310
        },
        "id": "FJuNyNhfoL3i",
        "outputId": "ca584d83-215c-46b2-97d1-a2099787a969"
      },
      "outputs": [
        {
          "data": {
            "text/html": [
              "<div>\n",
              "<style scoped>\n",
              "    .dataframe tbody tr th:only-of-type {\n",
              "        vertical-align: middle;\n",
              "    }\n",
              "\n",
              "    .dataframe tbody tr th {\n",
              "        vertical-align: top;\n",
              "    }\n",
              "\n",
              "    .dataframe thead th {\n",
              "        text-align: right;\n",
              "    }\n",
              "</style>\n",
              "<table border=\"1\" class=\"dataframe\">\n",
              "  <thead>\n",
              "    <tr style=\"text-align: right;\">\n",
              "      <th></th>\n",
              "      <th>Date</th>\n",
              "      <th>Time</th>\n",
              "      <th>Location</th>\n",
              "      <th>Operator</th>\n",
              "      <th>Flight #</th>\n",
              "      <th>Route</th>\n",
              "      <th>Type</th>\n",
              "      <th>Registration</th>\n",
              "      <th>cn/In</th>\n",
              "      <th>Aboard</th>\n",
              "      <th>Fatalities</th>\n",
              "      <th>Ground</th>\n",
              "      <th>Summary</th>\n",
              "    </tr>\n",
              "  </thead>\n",
              "  <tbody>\n",
              "    <tr>\n",
              "      <th>0</th>\n",
              "      <td>09/17/1908</td>\n",
              "      <td>17:18</td>\n",
              "      <td>Fort Myer, Virginia</td>\n",
              "      <td>Military - U.S. Army</td>\n",
              "      <td>NaN</td>\n",
              "      <td>Demonstration</td>\n",
              "      <td>Wright Flyer III</td>\n",
              "      <td>NaN</td>\n",
              "      <td>1</td>\n",
              "      <td>2.0</td>\n",
              "      <td>1.0</td>\n",
              "      <td>0.0</td>\n",
              "      <td>During a demonstration flight, a U.S. Army fly...</td>\n",
              "    </tr>\n",
              "    <tr>\n",
              "      <th>1</th>\n",
              "      <td>07/12/1912</td>\n",
              "      <td>06:30</td>\n",
              "      <td>AtlantiCity, New Jersey</td>\n",
              "      <td>Military - U.S. Navy</td>\n",
              "      <td>NaN</td>\n",
              "      <td>Test flight</td>\n",
              "      <td>Dirigible</td>\n",
              "      <td>NaN</td>\n",
              "      <td>NaN</td>\n",
              "      <td>5.0</td>\n",
              "      <td>5.0</td>\n",
              "      <td>0.0</td>\n",
              "      <td>First U.S. dirigible Akron exploded just offsh...</td>\n",
              "    </tr>\n",
              "    <tr>\n",
              "      <th>2</th>\n",
              "      <td>08/06/1913</td>\n",
              "      <td>NaN</td>\n",
              "      <td>Victoria, British Columbia, Canada</td>\n",
              "      <td>Private</td>\n",
              "      <td>-</td>\n",
              "      <td>NaN</td>\n",
              "      <td>Curtiss seaplane</td>\n",
              "      <td>NaN</td>\n",
              "      <td>NaN</td>\n",
              "      <td>1.0</td>\n",
              "      <td>1.0</td>\n",
              "      <td>0.0</td>\n",
              "      <td>The first fatal airplane accident in Canada oc...</td>\n",
              "    </tr>\n",
              "    <tr>\n",
              "      <th>3</th>\n",
              "      <td>09/09/1913</td>\n",
              "      <td>18:30</td>\n",
              "      <td>Over the North Sea</td>\n",
              "      <td>Military - German Navy</td>\n",
              "      <td>NaN</td>\n",
              "      <td>NaN</td>\n",
              "      <td>Zeppelin L-1 (airship)</td>\n",
              "      <td>NaN</td>\n",
              "      <td>NaN</td>\n",
              "      <td>20.0</td>\n",
              "      <td>14.0</td>\n",
              "      <td>0.0</td>\n",
              "      <td>The airship flew into a thunderstorm and encou...</td>\n",
              "    </tr>\n",
              "    <tr>\n",
              "      <th>4</th>\n",
              "      <td>10/17/1913</td>\n",
              "      <td>10:30</td>\n",
              "      <td>Near Johannisthal, Germany</td>\n",
              "      <td>Military - German Navy</td>\n",
              "      <td>NaN</td>\n",
              "      <td>NaN</td>\n",
              "      <td>Zeppelin L-2 (airship)</td>\n",
              "      <td>NaN</td>\n",
              "      <td>NaN</td>\n",
              "      <td>30.0</td>\n",
              "      <td>30.0</td>\n",
              "      <td>0.0</td>\n",
              "      <td>Hydrogen gas which was being vented was sucked...</td>\n",
              "    </tr>\n",
              "  </tbody>\n",
              "</table>\n",
              "</div>"
            ],
            "text/plain": [
              "         Date   Time                            Location  \\\n",
              "0  09/17/1908  17:18                 Fort Myer, Virginia   \n",
              "1  07/12/1912  06:30             AtlantiCity, New Jersey   \n",
              "2  08/06/1913    NaN  Victoria, British Columbia, Canada   \n",
              "3  09/09/1913  18:30                  Over the North Sea   \n",
              "4  10/17/1913  10:30          Near Johannisthal, Germany   \n",
              "\n",
              "                 Operator Flight #          Route                    Type  \\\n",
              "0    Military - U.S. Army      NaN  Demonstration        Wright Flyer III   \n",
              "1    Military - U.S. Navy      NaN    Test flight               Dirigible   \n",
              "2                 Private        -            NaN        Curtiss seaplane   \n",
              "3  Military - German Navy      NaN            NaN  Zeppelin L-1 (airship)   \n",
              "4  Military - German Navy      NaN            NaN  Zeppelin L-2 (airship)   \n",
              "\n",
              "  Registration cn/In  Aboard  Fatalities  Ground  \\\n",
              "0          NaN     1     2.0         1.0     0.0   \n",
              "1          NaN   NaN     5.0         5.0     0.0   \n",
              "2          NaN   NaN     1.0         1.0     0.0   \n",
              "3          NaN   NaN    20.0        14.0     0.0   \n",
              "4          NaN   NaN    30.0        30.0     0.0   \n",
              "\n",
              "                                             Summary  \n",
              "0  During a demonstration flight, a U.S. Army fly...  \n",
              "1  First U.S. dirigible Akron exploded just offsh...  \n",
              "2  The first fatal airplane accident in Canada oc...  \n",
              "3  The airship flew into a thunderstorm and encou...  \n",
              "4  Hydrogen gas which was being vented was sucked...  "
            ]
          },
          "execution_count": 37,
          "metadata": {},
          "output_type": "execute_result"
        }
      ],
      "source": [
        "# getting an idea of what information out data contains\n",
        "df.head()"
      ]
    },
    {
      "cell_type": "markdown",
      "metadata": {
        "id": "faVEu_dUpt8c"
      },
      "source": [
        "We aim to explore the Operator variable to see if certain types of operators are associated with more plane crashes. We will also examine if a particular type of plane results in more fatalities in a crash than others, and also identify the leading causes of crashes. Essentially, we want to explore whether certain flying conditions—such as the location, plane type, number of people aboard, etc.—are more dangerous for flying.\n",
        "\n",
        "Additionally, a time series graph will be useful to examine if plane crash fatalities have increased or decreased over time. It could also be valuable to create a heatmap to identify any “hotspot” locations for crashes around the world.\n",
        "\n",
        "Some challenges will arise with handling NaN values, especially in the flight number and registration variables. This means we will focus more on variables with more complete data. Identifying the cause of the crash will be tricky, as the Summary column contains free-text descriptions. We anticipate using code to extract certain patterns from the strings in the Summary field to get a sense of the leading causes of crashes. This will likely be the most challenging part, especially to ensure we don’t overlook any critical information when filtering."
      ]
    },
    {
      "cell_type": "code",
      "execution_count": 38,
      "metadata": {
        "id": "GgTMq8S2vPU1"
      },
      "outputs": [],
      "source": [
        "# removing columns that we don't need to use since most values are Nan and we aren't interested in exploring them\n",
        "df = df.drop(columns=['Flight #', 'Route', 'Registration', 'cn/In'])"
      ]
    },
    {
      "cell_type": "markdown",
      "metadata": {
        "id": "jco94Qpnuyh0"
      },
      "source": [
        "# Basic EDA"
      ]
    },
    {
      "cell_type": "code",
      "execution_count": 39,
      "metadata": {
        "colab": {
          "base_uri": "https://localhost:8080/",
          "height": 455
        },
        "id": "A4C8BW6doMvd",
        "outputId": "d614c8a7-e774-4c58-a80e-e7bdc68d3214"
      },
      "outputs": [
        {
          "data": {
            "text/html": [
              "<div>\n",
              "<style scoped>\n",
              "    .dataframe tbody tr th:only-of-type {\n",
              "        vertical-align: middle;\n",
              "    }\n",
              "\n",
              "    .dataframe tbody tr th {\n",
              "        vertical-align: top;\n",
              "    }\n",
              "\n",
              "    .dataframe thead th {\n",
              "        text-align: right;\n",
              "    }\n",
              "</style>\n",
              "<table border=\"1\" class=\"dataframe\">\n",
              "  <thead>\n",
              "    <tr style=\"text-align: right;\">\n",
              "      <th>col_0</th>\n",
              "      <th>105479.0</th>\n",
              "    </tr>\n",
              "    <tr>\n",
              "      <th>Operator</th>\n",
              "      <th></th>\n",
              "    </tr>\n",
              "  </thead>\n",
              "  <tbody>\n",
              "    <tr>\n",
              "      <th>A B Aerotransport</th>\n",
              "      <td>2</td>\n",
              "    </tr>\n",
              "    <tr>\n",
              "      <th>AB Aerotransport</th>\n",
              "      <td>3</td>\n",
              "    </tr>\n",
              "    <tr>\n",
              "      <th>ACES Colombia</th>\n",
              "      <td>3</td>\n",
              "    </tr>\n",
              "    <tr>\n",
              "      <th>ADC Airlines</th>\n",
              "      <td>2</td>\n",
              "    </tr>\n",
              "    <tr>\n",
              "      <th>ADES Colombia</th>\n",
              "      <td>2</td>\n",
              "    </tr>\n",
              "    <tr>\n",
              "      <th>...</th>\n",
              "      <td>...</td>\n",
              "    </tr>\n",
              "    <tr>\n",
              "      <th>Zantop Air Transport</th>\n",
              "      <td>4</td>\n",
              "    </tr>\n",
              "    <tr>\n",
              "      <th>Zantop Airways</th>\n",
              "      <td>1</td>\n",
              "    </tr>\n",
              "    <tr>\n",
              "      <th>Zantop International Airlines</th>\n",
              "      <td>1</td>\n",
              "    </tr>\n",
              "    <tr>\n",
              "      <th>Zen Nippon</th>\n",
              "      <td>1</td>\n",
              "    </tr>\n",
              "    <tr>\n",
              "      <th>de Havilland Aircraft</th>\n",
              "      <td>1</td>\n",
              "    </tr>\n",
              "  </tbody>\n",
              "</table>\n",
              "<p>2476 rows × 1 columns</p>\n",
              "</div>"
            ],
            "text/plain": [
              "col_0                          105479.0\n",
              "Operator                               \n",
              "A B Aerotransport                     2\n",
              "AB Aerotransport                      3\n",
              "ACES Colombia                         3\n",
              "ADC Airlines                          2\n",
              "ADES Colombia                         2\n",
              "...                                 ...\n",
              "Zantop Air Transport                  4\n",
              "Zantop Airways                        1\n",
              "Zantop International Airlines         1\n",
              "Zen Nippon                            1\n",
              "de Havilland Aircraft                 1\n",
              "\n",
              "[2476 rows x 1 columns]"
            ]
          },
          "execution_count": 39,
          "metadata": {},
          "output_type": "execute_result"
        }
      ],
      "source": [
        "pd.crosstab(df['Operator'], df['Fatalities'].sum())\n",
        "# there seem to be a lot of operators, will have to clean and combine certain operators that are similar"
      ]
    },
    {
      "cell_type": "code",
      "execution_count": 40,
      "metadata": {
        "colab": {
          "base_uri": "https://localhost:8080/",
          "height": 455
        },
        "id": "ovHLvjUiuLwd",
        "outputId": "695d0daf-d387-4c8d-e658-3a5bb181dc92"
      },
      "outputs": [
        {
          "data": {
            "text/html": [
              "<div>\n",
              "<style scoped>\n",
              "    .dataframe tbody tr th:only-of-type {\n",
              "        vertical-align: middle;\n",
              "    }\n",
              "\n",
              "    .dataframe tbody tr th {\n",
              "        vertical-align: top;\n",
              "    }\n",
              "\n",
              "    .dataframe thead th {\n",
              "        text-align: right;\n",
              "    }\n",
              "</style>\n",
              "<table border=\"1\" class=\"dataframe\">\n",
              "  <thead>\n",
              "    <tr style=\"text-align: right;\">\n",
              "      <th>col_0</th>\n",
              "      <th>105479.0</th>\n",
              "    </tr>\n",
              "    <tr>\n",
              "      <th>Type</th>\n",
              "      <th></th>\n",
              "    </tr>\n",
              "  </thead>\n",
              "  <tbody>\n",
              "    <tr>\n",
              "      <th>AAC-1 Toucan</th>\n",
              "      <td>1</td>\n",
              "    </tr>\n",
              "    <tr>\n",
              "      <th>AEGK</th>\n",
              "      <td>1</td>\n",
              "    </tr>\n",
              "    <tr>\n",
              "      <th>AT L98 Carvair</th>\n",
              "      <td>1</td>\n",
              "    </tr>\n",
              "    <tr>\n",
              "      <th>ATR 42-300</th>\n",
              "      <td>1</td>\n",
              "    </tr>\n",
              "    <tr>\n",
              "      <th>ATR-42-300</th>\n",
              "      <td>1</td>\n",
              "    </tr>\n",
              "    <tr>\n",
              "      <th>...</th>\n",
              "      <td>...</td>\n",
              "    </tr>\n",
              "    <tr>\n",
              "      <th>de Havilland Dove 1</th>\n",
              "      <td>2</td>\n",
              "    </tr>\n",
              "    <tr>\n",
              "      <th>de Havilland Dragon 1</th>\n",
              "      <td>1</td>\n",
              "    </tr>\n",
              "    <tr>\n",
              "      <th>de Havilland RU-6A Beaver /Bell UH-1H</th>\n",
              "      <td>1</td>\n",
              "    </tr>\n",
              "    <tr>\n",
              "      <th>de havilland Canada Twin Otter 200</th>\n",
              "      <td>1</td>\n",
              "    </tr>\n",
              "    <tr>\n",
              "      <th>deHavilland DH-86</th>\n",
              "      <td>1</td>\n",
              "    </tr>\n",
              "  </tbody>\n",
              "</table>\n",
              "<p>2446 rows × 1 columns</p>\n",
              "</div>"
            ],
            "text/plain": [
              "col_0                                  105479.0\n",
              "Type                                           \n",
              "AAC-1 Toucan                                  1\n",
              "AEGK                                          1\n",
              "AT L98 Carvair                                1\n",
              "ATR 42-300                                    1\n",
              "ATR-42-300                                    1\n",
              "...                                         ...\n",
              "de Havilland Dove 1                           2\n",
              "de Havilland Dragon 1                         1\n",
              "de Havilland RU-6A Beaver /Bell UH-1H         1\n",
              "de havilland Canada Twin Otter 200            1\n",
              "deHavilland DH-86                             1\n",
              "\n",
              "[2446 rows x 1 columns]"
            ]
          },
          "execution_count": 40,
          "metadata": {},
          "output_type": "execute_result"
        }
      ],
      "source": [
        "pd.crosstab(df['Type'], df['Fatalities'].sum())\n",
        "# again lots of rows need to clean, also doesn't appear to have a correlation?"
      ]
    },
    {
      "cell_type": "code",
      "execution_count": 41,
      "metadata": {
        "colab": {
          "base_uri": "https://localhost:8080/",
          "height": 455
        },
        "id": "KLDr1fzVua5p",
        "outputId": "867b2b4e-0a51-41e8-e0a3-f482ce6cead6"
      },
      "outputs": [
        {
          "data": {
            "text/html": [
              "<div>\n",
              "<style scoped>\n",
              "    .dataframe tbody tr th:only-of-type {\n",
              "        vertical-align: middle;\n",
              "    }\n",
              "\n",
              "    .dataframe tbody tr th {\n",
              "        vertical-align: top;\n",
              "    }\n",
              "\n",
              "    .dataframe thead th {\n",
              "        text-align: right;\n",
              "    }\n",
              "</style>\n",
              "<table border=\"1\" class=\"dataframe\">\n",
              "  <thead>\n",
              "    <tr style=\"text-align: right;\">\n",
              "      <th>col_0</th>\n",
              "      <th>105479.0</th>\n",
              "    </tr>\n",
              "    <tr>\n",
              "      <th>Year</th>\n",
              "      <th></th>\n",
              "    </tr>\n",
              "  </thead>\n",
              "  <tbody>\n",
              "    <tr>\n",
              "      <th>1908</th>\n",
              "      <td>1</td>\n",
              "    </tr>\n",
              "    <tr>\n",
              "      <th>1912</th>\n",
              "      <td>1</td>\n",
              "    </tr>\n",
              "    <tr>\n",
              "      <th>1913</th>\n",
              "      <td>3</td>\n",
              "    </tr>\n",
              "    <tr>\n",
              "      <th>1915</th>\n",
              "      <td>2</td>\n",
              "    </tr>\n",
              "    <tr>\n",
              "      <th>1916</th>\n",
              "      <td>5</td>\n",
              "    </tr>\n",
              "    <tr>\n",
              "      <th>...</th>\n",
              "      <td>...</td>\n",
              "    </tr>\n",
              "    <tr>\n",
              "      <th>2005</th>\n",
              "      <td>51</td>\n",
              "    </tr>\n",
              "    <tr>\n",
              "      <th>2006</th>\n",
              "      <td>49</td>\n",
              "    </tr>\n",
              "    <tr>\n",
              "      <th>2007</th>\n",
              "      <td>54</td>\n",
              "    </tr>\n",
              "    <tr>\n",
              "      <th>2008</th>\n",
              "      <td>62</td>\n",
              "    </tr>\n",
              "    <tr>\n",
              "      <th>2009</th>\n",
              "      <td>24</td>\n",
              "    </tr>\n",
              "  </tbody>\n",
              "</table>\n",
              "<p>98 rows × 1 columns</p>\n",
              "</div>"
            ],
            "text/plain": [
              "col_0  105479.0\n",
              "Year           \n",
              "1908          1\n",
              "1912          1\n",
              "1913          3\n",
              "1915          2\n",
              "1916          5\n",
              "...         ...\n",
              "2005         51\n",
              "2006         49\n",
              "2007         54\n",
              "2008         62\n",
              "2009         24\n",
              "\n",
              "[98 rows x 1 columns]"
            ]
          },
          "execution_count": 41,
          "metadata": {},
          "output_type": "execute_result"
        }
      ],
      "source": [
        "# want to observe if plane crashes have increased over the years\n",
        "df['Year'] = pd.to_datetime(df['Date']).dt.year\n",
        "pd.crosstab(df['Year'], df['Fatalities'].sum())"
      ]
    },
    {
      "cell_type": "code",
      "execution_count": 42,
      "metadata": {
        "colab": {
          "base_uri": "https://localhost:8080/",
          "height": 472
        },
        "id": "vk_e6vG9uuQs",
        "outputId": "0ffd1938-c774-485f-c39d-d4bb6ae707f7"
      },
      "outputs": [
        {
          "data": {
            "image/png": "[encoded data removed]",
            "text/plain": [
              "<Figure size 640x480 with 1 Axes>"
            ]
          },
          "metadata": {},
          "output_type": "display_data"
        }
      ],
      "source": [
        "df['Date'] = pd.to_datetime(df['Date'], errors='coerce') # date-time format\n",
        "df['Year'] = df['Date'].dt.year # extracting the year\n",
        "fatalities_by_year = df.groupby('Year')['Fatalities'].sum() # group by year\n",
        "\n",
        "plt.plot(fatalities_by_year, marker='o', linestyle='-', color='red', label='Fatalities') # simple graph to show trend\n",
        "plt.title('Flight Fatalities Over Time')\n",
        "plt.xlabel('Year')\n",
        "plt.ylabel('Total Fatalities')\n",
        "plt.grid(True)\n",
        "plt.legend()\n",
        "plt.show()"
      ]
    },
    {
      "cell_type": "markdown",
      "metadata": {
        "id": "Istt0G23wiYI"
      },
      "source": [
        "Overall, we can conclude that a lot of our variables need heavy cleaning and grouping - specifically, the location, operator, plane type, and summary variables. By cleaning and grouping these variables we will be able to draw more significant conclusions and be able to cross tabulate variables more effectively to draw out potential patterns."
      ]
    },
    {
      "cell_type": "code",
      "execution_count": 43,
      "metadata": {
        "id": "CRWZov4__Vm-"
      },
      "outputs": [],
      "source": [
        "df['Summary'] = df['Summary'].fillna('').str.lower().str.replace(r'[^a-z\\s]', '', regex=True).str.strip()\n",
        "\n",
        "\n",
        "cause_keywords = {\n",
        "   'weather': ['storm', 'lightning', 'turbulence', 'wind', 'hurricane', 'rain', 'fog', 'snow', 'ice', 'icing', 'microburst', 'poor visibility'],\n",
        "   'engine failure': ['engine', 'power loss', 'flameout', 'engine failure', 'lost power', 'engine stopped'],\n",
        "   'pilot error': ['pilot error', 'misjudged', 'failed to', 'overcorrected', 'wrong altitude', 'navigation error', 'loss of control', 'stall', 'did not follow', 'goaround', 'approach mismanagement'],\n",
        "   'mechanical failure': ['mechanical', 'malfunction', 'broke', 'structural failure', 'detached', 'gear collapsed', 'wing failure'],\n",
        "   'collision': ['midair', 'collision', 'collided with', 'hit another aircraft', 'crashed into'],\n",
        "   'fire/explosion': ['fire', 'explosion', 'exploded', 'burned', 'caught fire'],\n",
        "   'military action': ['missile', 'shot down', 'attack', 'bomb', 'friendly fire'],\n",
        "   'bird strike': ['bird', 'bird strike', 'ingested bird'],\n",
        "   'fuel issue': ['fuel', 'ran out of fuel', 'fuel starvation', 'fuel exhaustion'],\n",
        "   'controlled flight into terrain (CFIT)': ['flew into a mountain', 'crashed onto a mountain', 'hit terrain', 'struck a mountain'],\n",
        "   'hijacking/terrorism': ['hijack', 'grenade', 'terrorist', 'bomb', 'explosive'],\n",
        "   'unknown': ['unknown', 'undetermined', 'no cause reported', 'unclear', ''],\n",
        "}\n"
      ]
    },
    {
      "cell_type": "code",
      "execution_count": 44,
      "metadata": {
        "colab": {
          "base_uri": "https://localhost:8080/",
          "height": 492
        },
        "id": "TAqlZWpw_lti",
        "outputId": "187b7fef-473a-4bab-e6f0-874ee809b687"
      },
      "outputs": [
        {
          "data": {
            "text/plain": [
              "Cause\n",
              "weather                                  1534\n",
              "unknown                                  1476\n",
              "collision                                 734\n",
              "engine failure                            586\n",
              "pilot error                               364\n",
              "fire/explosion                            199\n",
              "mechanical failure                        127\n",
              "military action                           109\n",
              "controlled flight into terrain (CFIT)      76\n",
              "fuel issue                                 40\n",
              "hijacking/terrorism                        22\n",
              "bird strike                                 1\n",
              "Name: count, dtype: int64"
            ]
          },
          "execution_count": 44,
          "metadata": {},
          "output_type": "execute_result"
        }
      ],
      "source": [
        "def assign_cause(summary):\n",
        "   for cause, keywords in cause_keywords.items():\n",
        "       for kw in keywords:\n",
        "           if kw in summary:\n",
        "               return cause\n",
        "   return 'other'  # fallback if no keyword is found\n",
        "\n",
        "\n",
        "df['Cause'] = df['Summary'].apply(assign_cause)\n",
        "\n",
        "\n",
        "df['Cause'].value_counts()"
      ]
    },
    {
      "cell_type": "code",
      "execution_count": 45,
      "metadata": {},
      "outputs": [
        {
          "data": {
            "text/html": [
              "<div>\n",
              "<style scoped>\n",
              "    .dataframe tbody tr th:only-of-type {\n",
              "        vertical-align: middle;\n",
              "    }\n",
              "\n",
              "    .dataframe tbody tr th {\n",
              "        vertical-align: top;\n",
              "    }\n",
              "\n",
              "    .dataframe thead th {\n",
              "        text-align: right;\n",
              "    }\n",
              "</style>\n",
              "<table border=\"1\" class=\"dataframe\">\n",
              "  <thead>\n",
              "    <tr style=\"text-align: right;\">\n",
              "      <th></th>\n",
              "      <th>Date</th>\n",
              "      <th>Time</th>\n",
              "      <th>Location</th>\n",
              "      <th>Operator</th>\n",
              "      <th>Type</th>\n",
              "      <th>Aboard</th>\n",
              "      <th>Fatalities</th>\n",
              "      <th>Ground</th>\n",
              "      <th>Summary</th>\n",
              "      <th>Year</th>\n",
              "      <th>Cause</th>\n",
              "      <th>Proportion_Killed</th>\n",
              "    </tr>\n",
              "  </thead>\n",
              "  <tbody>\n",
              "    <tr>\n",
              "      <th>2514</th>\n",
              "      <td>1991-02-22</td>\n",
              "      <td>NaN</td>\n",
              "      <td>Cazombo, Angola</td>\n",
              "      <td>Fuerza Area Angolaise</td>\n",
              "      <td>Antonov AN-26</td>\n",
              "      <td>47.0</td>\n",
              "      <td>47.0</td>\n",
              "      <td>0.0</td>\n",
              "      <td>shot down by surfacetoair missile launced by u...</td>\n",
              "      <td>1991</td>\n",
              "      <td>military action</td>\n",
              "      <td>1.000000</td>\n",
              "    </tr>\n",
              "    <tr>\n",
              "      <th>3908</th>\n",
              "      <td>1990-02-05</td>\n",
              "      <td>08:37</td>\n",
              "      <td>Near Ibague, Colombia</td>\n",
              "      <td>Helicopteros Nacionales de Colombia</td>\n",
              "      <td>Grumman G-159 Gulfstream I</td>\n",
              "      <td>15.0</td>\n",
              "      <td>15.0</td>\n",
              "      <td>0.0</td>\n",
              "      <td>struck mt el saluda at  ft near image after an...</td>\n",
              "      <td>1990</td>\n",
              "      <td>pilot error</td>\n",
              "      <td>1.000000</td>\n",
              "    </tr>\n",
              "    <tr>\n",
              "      <th>3912</th>\n",
              "      <td>1990-01-02</td>\n",
              "      <td>13:40</td>\n",
              "      <td>Java Sea, Indonesia</td>\n",
              "      <td>Pelita Air Service</td>\n",
              "      <td>CASA 212 Aviocar 200</td>\n",
              "      <td>16.0</td>\n",
              "      <td>9.0</td>\n",
              "      <td>0.0</td>\n",
              "      <td>ditched into the java sea after experiencing m...</td>\n",
              "      <td>1990</td>\n",
              "      <td>engine failure</td>\n",
              "      <td>0.562500</td>\n",
              "    </tr>\n",
              "    <tr>\n",
              "      <th>3913</th>\n",
              "      <td>1990-01-13</td>\n",
              "      <td>12:56</td>\n",
              "      <td>Near Pervouralsk, Russia</td>\n",
              "      <td>Aeroflot</td>\n",
              "      <td>Tupolev TU-134A</td>\n",
              "      <td>71.0</td>\n",
              "      <td>27.0</td>\n",
              "      <td>0.0</td>\n",
              "      <td>a fire in the rear cargo hold and fire warning...</td>\n",
              "      <td>1990</td>\n",
              "      <td>weather</td>\n",
              "      <td>0.380282</td>\n",
              "    </tr>\n",
              "    <tr>\n",
              "      <th>3914</th>\n",
              "      <td>1990-01-15</td>\n",
              "      <td>08:30</td>\n",
              "      <td>Pico Blanco, Costa Rica</td>\n",
              "      <td>SANSA</td>\n",
              "      <td>CASA 212 Aviocar 200</td>\n",
              "      <td>23.0</td>\n",
              "      <td>23.0</td>\n",
              "      <td>0.0</td>\n",
              "      <td>crashed about  feet up on  ft pico blanco moun...</td>\n",
              "      <td>1990</td>\n",
              "      <td>weather</td>\n",
              "      <td>1.000000</td>\n",
              "    </tr>\n",
              "  </tbody>\n",
              "</table>\n",
              "</div>"
            ],
            "text/plain": [
              "           Date   Time                  Location  \\\n",
              "2514 1991-02-22    NaN           Cazombo, Angola   \n",
              "3908 1990-02-05  08:37     Near Ibague, Colombia   \n",
              "3912 1990-01-02  13:40       Java Sea, Indonesia   \n",
              "3913 1990-01-13  12:56  Near Pervouralsk, Russia   \n",
              "3914 1990-01-15  08:30   Pico Blanco, Costa Rica   \n",
              "\n",
              "                                 Operator                        Type  Aboard  \\\n",
              "2514                Fuerza Area Angolaise               Antonov AN-26    47.0   \n",
              "3908  Helicopteros Nacionales de Colombia  Grumman G-159 Gulfstream I    15.0   \n",
              "3912                   Pelita Air Service        CASA 212 Aviocar 200    16.0   \n",
              "3913                             Aeroflot             Tupolev TU-134A    71.0   \n",
              "3914                                SANSA        CASA 212 Aviocar 200    23.0   \n",
              "\n",
              "      Fatalities  Ground                                            Summary  \\\n",
              "2514        47.0     0.0  shot down by surfacetoair missile launced by u...   \n",
              "3908        15.0     0.0  struck mt el saluda at  ft near image after an...   \n",
              "3912         9.0     0.0  ditched into the java sea after experiencing m...   \n",
              "3913        27.0     0.0  a fire in the rear cargo hold and fire warning...   \n",
              "3914        23.0     0.0  crashed about  feet up on  ft pico blanco moun...   \n",
              "\n",
              "      Year            Cause  Proportion_Killed  \n",
              "2514  1991  military action           1.000000  \n",
              "3908  1990      pilot error           1.000000  \n",
              "3912  1990   engine failure           0.562500  \n",
              "3913  1990          weather           0.380282  \n",
              "3914  1990          weather           1.000000  "
            ]
          },
          "execution_count": 45,
          "metadata": {},
          "output_type": "execute_result"
        }
      ],
      "source": [
        "df['Proportion_Killed'] = df['Fatalities']/df['Aboard'] #creating proportion killed column\n",
        "\n",
        "df_recent = df[df['Date'].dt.year>=1990]\n",
        "df_recent.head()"
      ]
    },
    {
      "cell_type": "markdown",
      "metadata": {},
      "source": [
        "# Analysis"
      ]
    },
    {
      "cell_type": "markdown",
      "metadata": {},
      "source": [
        "Our current guiding question\n",
        "- What factors (operator, type, and crash summary) are associated with more deadly plane crashes (larger proportion of deaths)?\n",
        "\n",
        "Instructions ask for a prediction question so maybe we can change the wording to something like:\n",
        "- Given factors like operator, aircraft type, and crash summary, can we predict the proportion of fataliies in commercial plane crashes after 1990?"
      ]
    },
    {
      "cell_type": "code",
      "execution_count": 46,
      "metadata": {},
      "outputs": [
        {
          "name": "stderr",
          "output_type": "stream",
          "text": [
            "/var/folders/tr/mx4sn42j27q4nqp24v7693r00000gn/T/ipykernel_79627/1957202371.py:7: SettingWithCopyWarning: \n",
            "A value is trying to be set on a copy of a slice from a DataFrame.\n",
            "Try using .loc[row_indexer,col_indexer] = value instead\n",
            "\n",
            "See the caveats in the documentation: https://pandas.pydata.org/pandas-docs/stable/user_guide/indexing.html#returning-a-view-versus-a-copy\n",
            "  df_recent.loc[:, 'Operator_Grouped'] = df_recent['Operator'].apply(lambda x: x if x in top_operators else 'Other')\n",
            "/var/folders/tr/mx4sn42j27q4nqp24v7693r00000gn/T/ipykernel_79627/1957202371.py:11: SettingWithCopyWarning: \n",
            "A value is trying to be set on a copy of a slice from a DataFrame.\n",
            "Try using .loc[row_indexer,col_indexer] = value instead\n",
            "\n",
            "See the caveats in the documentation: https://pandas.pydata.org/pandas-docs/stable/user_guide/indexing.html#returning-a-view-versus-a-copy\n",
            "  df_recent.loc[:, 'Type_Grouped'] = df_recent['Type'].apply(lambda x: x if x in top_types else 'Other')\n"
          ]
        }
      ],
      "source": [
        "# \n",
        "# cleaning and one hot encoding our features\n",
        "# \n",
        "\n",
        "#top 5 operators\n",
        "top_operators = df_recent['Operator'].value_counts().nlargest(5).index\n",
        "df_recent.loc[:, 'Operator_Grouped'] = df_recent['Operator'].apply(lambda x: x if x in top_operators else 'Other')\n",
        "\n",
        "#top 5 plane types\n",
        "top_types = df_recent['Type'].value_counts().nlargest(5).index\n",
        "df_recent.loc[:, 'Type_Grouped'] = df_recent['Type'].apply(lambda x: x if x in top_types else 'Other')\n",
        "\n",
        "#filter for our model\n",
        "model_df = df_recent[['Proportion_Killed', 'Operator_Grouped', 'Type_Grouped', 'Cause']].dropna()\n",
        "\n",
        "#one hot encoding\n",
        "X = pd.get_dummies(model_df[['Operator_Grouped', 'Type_Grouped', 'Cause']], drop_first=True)\n",
        "y = model_df['Proportion_Killed']"
      ]
    },
    {
      "cell_type": "code",
      "execution_count": 47,
      "metadata": {},
      "outputs": [],
      "source": [
        "# Standardizing features\n",
        "scaler = StandardScaler()\n",
        "X_scaled = scaler.fit_transform(X)\n",
        "\n",
        "\n",
        "\n"
      ]
    },
    {
      "cell_type": "code",
      "execution_count": 48,
      "metadata": {},
      "outputs": [
        {
          "name": "stdout",
          "output_type": "stream",
          "text": [
            "Mean Squared Error (MSE): 0.0960\n",
            "R-squared (R²): -0.0035\n"
          ]
        }
      ],
      "source": [
        "# PCA\n",
        "pca = PCA(n_components=0.95)\n",
        "X_pca = pca.fit_transform(X_scaled)\n",
        "\n",
        "X_train, X_test, y_train, y_test = train_test_split(X_pca, y, test_size=0.2, random_state=42)\n",
        "\n",
        "#build and fit model\n",
        "model = LinearRegression()\n",
        "model.fit(X_train, y_train)\n",
        "\n",
        "#predict\n",
        "y_pred = model.predict(X_test)\n",
        "\n",
        "#evaluate\n",
        "mse = mean_squared_error(y_test, y_pred)\n",
        "r2 = r2_score(y_test, y_pred)\n",
        "\n",
        "print(f\"Mean Squared Error (MSE): {mse:.4f}\")\n",
        "print(f\"R-squared (R²): {r2:.4f}\")"
      ]
    },
    {
      "cell_type": "code",
      "execution_count": 49,
      "metadata": {},
      "outputs": [
        {
          "name": "stdout",
          "output_type": "stream",
          "text": [
            "Mean Squared Error: 0.0943\n",
            "R^2 Score: 0.0140\n"
          ]
        }
      ],
      "source": [
        "#\n",
        "# building the regression model without pca\n",
        "# \n",
        "\n",
        "X_train, X_test, y_train, y_test = train_test_split(X, y, test_size=0.2, random_state=42)\n",
        "\n",
        "#build and fit model\n",
        "model = LinearRegression()\n",
        "model.fit(X_train, y_train)\n",
        "\n",
        "#predict on test set\n",
        "y_pred = model.predict(X_test)\n",
        "\n",
        "#evaluate\n",
        "mse = mean_squared_error(y_test, y_pred)\n",
        "r2 = r2_score(y_test, y_pred)\n",
        "\n",
        "print(f'Mean Squared Error: {mse:.4f}')\n",
        "print(f'R^2 Score: {r2:.4f}')"
      ]
    },
    {
      "cell_type": "markdown",
      "metadata": {},
      "source": [
        "The very low R-squared means that the model explains ony about 1.4% of the variance in crash fatality proportions. While there are some trends in the data, it seems that crash fatality outcomes are highly variable and can be influenced by many unpredictable factors not captured in our dataset and model."
      ]
    },
    {
      "cell_type": "code",
      "execution_count": 50,
      "metadata": {},
      "outputs": [
        {
          "data": {
            "image/png": "[encoded data removed]",
            "text/plain": [
              "<Figure size 1000x600 with 1 Axes>"
            ]
          },
          "metadata": {},
          "output_type": "display_data"
        }
      ],
      "source": [
        "#\n",
        "# plotting feature importance - first graph for assignment\n",
        "#\n",
        "\n",
        "features = X.columns\n",
        "coeffs = model.coef_\n",
        "\n",
        "#dataframe for plotting\n",
        "coef_df = pd.DataFrame({'Feature': features, 'Coefficient': coeffs}).sort_values(by='Coefficient', ascending=False)\n",
        "\n",
        "#plot (includes cause, operator, and type)\n",
        "plt.figure(figsize=(10, 6))\n",
        "plt.barh(coef_df['Feature'], coef_df['Coefficient'], color='skyblue')\n",
        "plt.xlabel('Coefficient Value')\n",
        "plt.title('Feature Importance in Predicting Proportion Killed')\n",
        "plt.ylabel('Features')\n",
        "plt.show()"
      ]
    },
    {
      "cell_type": "markdown",
      "metadata": {},
      "source": [
        "This graph shows the operators, types, and causes that have the biggest positive/negative impacts on fatality proportion. Negative coefficients are associated with a higher proportion of deaths, while positive coefficients are associated with a lower proportion."
      ]
    },
    {
      "cell_type": "code",
      "execution_count": 51,
      "metadata": {},
      "outputs": [
        {
          "data": {
            "image/png": "[encoded data removed]",
            "text/plain": [
              "<Figure size 800x600 with 1 Axes>"
            ]
          },
          "metadata": {},
          "output_type": "display_data"
        }
      ],
      "source": [
        "#\n",
        "# actual vs predicted plot - second graph for assignment\n",
        "# \n",
        "\n",
        "plt.figure(figsize=(8, 6))\n",
        "plt.scatter(y_test, y_pred, alpha=0.7)\n",
        "plt.plot([y.min(), y.max()], [y.min(), y.max()], 'r--', lw=2)\n",
        "plt.title('Actual vs Predicted Proportion Killed')\n",
        "plt.xlabel('Actual Proportion Killed')\n",
        "plt.ylabel('Predicted Proportion Killed')\n",
        "plt.show()"
      ]
    },
    {
      "cell_type": "markdown",
      "metadata": {},
      "source": [
        "This scatterplot shows how well the model's predictions line up with the actual outcomes. This suggests that the model tends to overestimate fatality rates and has difficulty capturing variation in actual outcomes. In other words, airplane crashes are largely unpredictable and factors in this dataset/model are insufficient to fully capture the complexity of survival outcomes."
      ]
    }
  ],
  "metadata": {
    "colab": {
      "authorship_tag": "ABX9TyMzP8TsOyXezBx2HF+TtmmQ",
      "include_colab_link": true,
      "provenance": []
    },
    "kernelspec": {
      "display_name": "Python 3",
      "name": "python3"
    },
    "language_info": {
      "codemirror_mode": {
        "name": "ipython",
        "version": 3
      },
      "file_extension": ".py",
      "mimetype": "text/x-python",
      "name": "python",
      "nbconvert_exporter": "python",
      "pygments_lexer": "ipython3",
      "version": "3.13.2"
    }
  },
  "nbformat": 4,
  "nbformat_minor": 0
}
